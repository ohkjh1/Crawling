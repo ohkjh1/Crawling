{
 "cells": [
  {
   "cell_type": "markdown",
   "id": "bf8a7bbb",
   "metadata": {},
   "source": [
    "## 날씨 정보 크롤링 "
   ]
  },
  {
   "cell_type": "code",
   "execution_count": 1,
   "id": "3e8adf3c",
   "metadata": {
    "ExecuteTime": {
     "end_time": "2023-10-13T22:53:13.011130Z",
     "start_time": "2023-10-13T22:53:11.844704Z"
    }
   },
   "outputs": [
    {
     "name": "stdout",
     "output_type": "stream",
     "text": [
      "\"나들이 못 가겠네\"…전국에 천둥·번개 동반한 비[오늘날씨]\n",
      "[내일날씨]전국에 천둥·번개 동반한 비…일부 지역 우박\n",
      "[내일날씨] 천둥·번개 동반 요란한 가을비…일부선 우박\n",
      "[생활날씨] 주말 국지성 호우…벼락·돌풍·우박 주의\n"
     ]
    }
   ],
   "source": [
    "#requests 크롤링에서 페이지정보 추출하는 라이브러리 \n",
    "import requests as req \n",
    "#1step) 날 것의 데이터 추출하기\n",
    "url =(' https://search.naver.com/search.naver?where=nexearch&sm=top_hty&fbm=0&ie=utf8&query=%EB%82%A0%EC%94%A8')\n",
    "res=req.get(url)\n",
    "#2step) 자연어를 컴퓨터(html)언어로 바꾸기 위해 BeautifulSoup라이브러리로 데이터를 객체화(html형태데이터화)하기\n",
    "from bs4 import BeautifulSoup as bs \n",
    "#bs(페이지정보, 파싱방법) 이렇게 하면 html언어화 \n",
    "soup = bs(res.text, 'lxml')\n",
    "#3step) 태그명과 선택자를 사용하여 가져오기 \n",
    "weather=soup.select('a.news_tit')\n",
    "# 주의: 가져온 결과가 리스트 형태로 나와서 인덱싱 후에 .text로 뽑아내기\n",
    "soup.select('a.news_tit')[0].text \n",
    "#위처럼 하면 결과 하나씩 나오게 되며, 여러 개를 한 번에 출력하려면 \n",
    "#4step) for문 사용하기\n",
    "for i in range(len(weather)):\n",
    "    print(weather[i].text)"
   ]
  },
  {
   "cell_type": "markdown",
   "id": "0435eec6",
   "metadata": {},
   "source": [
    "## 멜론차트 크롤링 후 데이터프레임화하기"
   ]
  },
  {
   "cell_type": "code",
   "execution_count": 10,
   "id": "7f1a2663",
   "metadata": {
    "ExecuteTime": {
     "end_time": "2023-10-13T13:28:33.221840Z",
     "start_time": "2023-10-13T13:28:32.653841Z"
    }
   },
   "outputs": [],
   "source": [
    "#step0) 라이브러리 불러오기 \n",
    "import requests as req \n",
    "from bs4 import BeautifulSoup as bs\n",
    "import pandas as pd \n",
    "#step1) 날 것의 데이터 추출하기 \n",
    "#주의) Response [400]: 브라우저에서 사용자가 아닌 크롤링 코드로 하고 있음을 감지하여 접근불가됨\n",
    "#Response [200] : 정보를 성공적으로 응답받았다!\n",
    "#Response [400] : 클라이언트의 요청에 문제가 있을 때 발생하는 오류코드\n",
    "#Response [500] : 서버의 응답에 문제가 있을 때 발생하는 오류코드\n",
    "#해결) 객체 형태? 딕셔너리 형태로 \n",
    "#'User-Agent': 'Mozilla/5.0 (Windows NT 10.0; Win64; x64) AppleWebKit/537.36 (KHTML, like Gecko) Chrome/117.0.0.0 Safari/537.36'}\n",
    "#이걸 headers에 넣어주기\n",
    "url ='https://www.melon.com/chart/'\n",
    "h={'User-Agent':'Mozilla/5.0 (Windows NT 10.0; Win64; x64) AppleWebKit/537.36 (KHTML, like Gecko) Chrome/117.0.0.0 Safari/537.36'}\n",
    "res=req.get(url, headers = h)\n",
    "#step3) BeautifulSoup 라이브러리로 자연어를 컴퓨터가 인식하도록 객체화(html형태데이터화)\n",
    "soup = bs(res.text , 'lxml')\n",
    "#step4) 태그와 선택자명으로 노래제목 및 가수 파싱하기 \n",
    "song=soup.select('div.ellipsis.rank01>span>a')\n",
    "#주의)가수명이 두 개 이상인 경우, 각 가수가 a태그로 따로 되어있어서, a태그로 파싱하면\n",
    "#두개로 추출됨 그러면 노래제목과 가수명의 개수가 일치하지 않게된다. \n",
    "singer=soup.select('div.ellipsis.rank02>span>a')\n",
    "#해결)두 가수를 한꺼번에 묶고 있는 태그 span으로 추출하기 \n",
    "singer=soup.select('div.ellipsis.rank02>span')\n",
    "#step5)결과가 리스트 형태로 나오므로, for문으로 인덱싱하여, 다 추출하기\n",
    "song_list = []\n",
    "singer_list=[]\n",
    "rank_list=[]\n",
    "for i in range(len(song)):\n",
    "    song_list.append(song[i].text)\n",
    "    singer_list.append(singer[i].text)\n",
    "    rank_list.append(i+1)"
   ]
  },
  {
   "cell_type": "code",
   "execution_count": 11,
   "id": "af944bbd",
   "metadata": {
    "ExecuteTime": {
     "end_time": "2023-10-13T13:28:33.236841Z",
     "start_time": "2023-10-13T13:28:33.222841Z"
    }
   },
   "outputs": [
    {
     "data": {
      "text/html": [
       "<div>\n",
       "<style scoped>\n",
       "    .dataframe tbody tr th:only-of-type {\n",
       "        vertical-align: middle;\n",
       "    }\n",
       "\n",
       "    .dataframe tbody tr th {\n",
       "        vertical-align: top;\n",
       "    }\n",
       "\n",
       "    .dataframe thead th {\n",
       "        text-align: right;\n",
       "    }\n",
       "</style>\n",
       "<table border=\"1\" class=\"dataframe\">\n",
       "  <thead>\n",
       "    <tr style=\"text-align: right;\">\n",
       "      <th></th>\n",
       "      <th>노래제목</th>\n",
       "      <th>가수</th>\n",
       "    </tr>\n",
       "    <tr>\n",
       "      <th>순위</th>\n",
       "      <th></th>\n",
       "      <th></th>\n",
       "    </tr>\n",
       "  </thead>\n",
       "  <tbody>\n",
       "    <tr>\n",
       "      <th>1</th>\n",
       "      <td>Love Lee</td>\n",
       "      <td>AKMU (악뮤)</td>\n",
       "    </tr>\n",
       "    <tr>\n",
       "      <th>2</th>\n",
       "      <td>후라이의 꿈</td>\n",
       "      <td>AKMU (악뮤)</td>\n",
       "    </tr>\n",
       "    <tr>\n",
       "      <th>3</th>\n",
       "      <td>Seven (feat. Latto) - Clean Ver.</td>\n",
       "      <td>정국</td>\n",
       "    </tr>\n",
       "    <tr>\n",
       "      <th>4</th>\n",
       "      <td>You &amp; Me</td>\n",
       "      <td>제니 (JENNIE)</td>\n",
       "    </tr>\n",
       "    <tr>\n",
       "      <th>5</th>\n",
       "      <td>Either Way</td>\n",
       "      <td>IVE (아이브)</td>\n",
       "    </tr>\n",
       "    <tr>\n",
       "      <th>...</th>\n",
       "      <td>...</td>\n",
       "      <td>...</td>\n",
       "    </tr>\n",
       "    <tr>\n",
       "      <th>96</th>\n",
       "      <td>무중력 (Space)</td>\n",
       "      <td>NCT 127</td>\n",
       "    </tr>\n",
       "    <tr>\n",
       "      <th>97</th>\n",
       "      <td>사실말야내가말야그게그러니까말이야</td>\n",
       "      <td>케이시 (Kassy)</td>\n",
       "    </tr>\n",
       "    <tr>\n",
       "      <th>98</th>\n",
       "      <td>미친 사랑의 노래</td>\n",
       "      <td>김연지, DK(디셈버)</td>\n",
       "    </tr>\n",
       "    <tr>\n",
       "      <th>99</th>\n",
       "      <td>Cool With You</td>\n",
       "      <td>NewJeans</td>\n",
       "    </tr>\n",
       "    <tr>\n",
       "      <th>100</th>\n",
       "      <td>민들레 (single ver.)</td>\n",
       "      <td>우효</td>\n",
       "    </tr>\n",
       "  </tbody>\n",
       "</table>\n",
       "<p>100 rows × 2 columns</p>\n",
       "</div>"
      ],
      "text/plain": [
       "                                 노래제목            가수\n",
       "순위                                                 \n",
       "1                            Love Lee     AKMU (악뮤)\n",
       "2                              후라이의 꿈     AKMU (악뮤)\n",
       "3    Seven (feat. Latto) - Clean Ver.            정국\n",
       "4                            You & Me   제니 (JENNIE)\n",
       "5                          Either Way     IVE (아이브)\n",
       "..                                ...           ...\n",
       "96                        무중력 (Space)       NCT 127\n",
       "97                  사실말야내가말야그게그러니까말이야   케이시 (Kassy)\n",
       "98                          미친 사랑의 노래  김연지, DK(디셈버)\n",
       "99                      Cool With You      NewJeans\n",
       "100                 민들레 (single ver.)            우효\n",
       "\n",
       "[100 rows x 2 columns]"
      ]
     },
     "execution_count": 11,
     "metadata": {},
     "output_type": "execute_result"
    }
   ],
   "source": [
    "#step6)딕셔너리를 활용해서 DataFrame만들기 \n",
    "dic = {'노래제목': song_list, \"가수\": singer_list, \"순위\": rank_list}\n",
    "melon=pd.DataFrame(dic)\n",
    "melon.set_index('순위',inplace=True)\n",
    "melon"
   ]
  },
  {
   "cell_type": "code",
   "execution_count": 12,
   "id": "46c3683c",
   "metadata": {
    "ExecuteTime": {
     "end_time": "2023-10-13T13:28:33.251841Z",
     "start_time": "2023-10-13T13:28:33.239844Z"
    }
   },
   "outputs": [],
   "source": [
    "#step7)csv  파일로 내보내기\n",
    "melon.to_csv('data//멜론차트복습.csv')"
   ]
  },
  {
   "cell_type": "markdown",
   "id": "f0f626eb",
   "metadata": {},
   "source": [
    "### iframe 조심) iframe으로 감싸진 것을 반환할 때는 응답이 정상이 뜨더라도 데이터 출력이 안된다. \n",
    "- 원본데이터가 있는 주소로 이동하여 그 주소를 url에 넣기 "
   ]
  },
  {
   "cell_type": "code",
   "execution_count": null,
   "id": "a8d262e3",
   "metadata": {},
   "outputs": [],
   "source": []
  },
  {
   "cell_type": "code",
   "execution_count": null,
   "id": "b367801b",
   "metadata": {},
   "outputs": [],
   "source": []
  }
 ],
 "metadata": {
  "kernelspec": {
   "display_name": "Python 3 (ipykernel)",
   "language": "python",
   "name": "python3"
  },
  "language_info": {
   "codemirror_mode": {
    "name": "ipython",
    "version": 3
   },
   "file_extension": ".py",
   "mimetype": "text/x-python",
   "name": "python",
   "nbconvert_exporter": "python",
   "pygments_lexer": "ipython3",
   "version": "3.10.9"
  },
  "toc": {
   "base_numbering": 1,
   "nav_menu": {},
   "number_sections": true,
   "sideBar": true,
   "skip_h1_title": false,
   "title_cell": "Table of Contents",
   "title_sidebar": "Contents",
   "toc_cell": false,
   "toc_position": {},
   "toc_section_display": true,
   "toc_window_display": false
  }
 },
 "nbformat": 4,
 "nbformat_minor": 5
}
