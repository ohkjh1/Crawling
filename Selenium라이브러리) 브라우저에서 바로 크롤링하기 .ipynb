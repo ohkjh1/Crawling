{
 "cells": [
  {
   "cell_type": "markdown",
   "id": "d2cbfb35",
   "metadata": {},
   "source": [
    "## Selenium으로 브라우저에서 자동으로 클릭, 검색, 스크롤 등을 작동하며, 정보 크롤링"
   ]
  },
  {
   "cell_type": "code",
   "execution_count": null,
   "id": "24e7d10d",
   "metadata": {},
   "outputs": [],
   "source": [
    "#step0) 브라우저의 조작을 컴퓨터가 자동으로 할 수 있게 해주는 라이브러리 설치\n",
    "!pip install selenium\n",
    "#문법이 과거 버전일 경우에도 잘 적용시켜주기 Update 쓴 것도 추가하기  \n",
    "!pip install -U selenium"
   ]
  },
  {
   "cell_type": "code",
   "execution_count": null,
   "id": "8fc56888",
   "metadata": {},
   "outputs": [],
   "source": [
    "# #step0) 브라우저의 조작을 컴퓨터가 자동으로 할 수 있게 해주는 라이브러리 설치\n",
    "# !pip install selenium\n",
    "# #문법이 과거 버전일 경우에도 잘 적용시켜주기 Update 쓴 것도 추가하기  \n",
    "# !pip install -U selenium\n",
    "#step1) 브라우저 on/off 하는 , 컴퓨터용 키보드를 만드는 라이브러리 가져오기 \n",
    "from selenium import webdriver as wb\n",
    "from selenium.webdriver.common.keys import Keys\n",
    "#step1) 선택자(id 냐 class냐 css selector냐 등을 구분하는)의 구분자 역할을 하는 라이브러리 불러오기\n",
    "from selenium.webdriver.common.by import By\n",
    "#step2) 웹브라우저 시작 \n",
    "driver=wb.Chrome()\n",
    "driver.get(\"http://www.naver.com\")\n",
    "#step3)검색창에 아시아게임 입력 후 엔터\n",
    "#위에서 시작한 웹브라우저의 개발자도구에서 '검색창\" ID찾기  \n",
    "search=driver.find_element(By.ID,\"query\")\n",
    "search.send_keys(\"아시아게임\")\n",
    "search.send_keys(Keys.ENTER)\n",
    "#step4) 자동으로 스크롤 최하단으로 이동 \n",
    "body=driver.find_element(By.TAG_NAME,\"body\")\n",
    "body.send_keys(Keys.END)\n",
    "#step5) 뒤로 가고 검색창 초기화하고 새로운 검색어 입력 후 클릭 \n",
    "#주의)검색 다시 할 때 검색창 초기화하기\n",
    "search=driver.find_element(By.ID,\"query\")\n",
    "search.send_keys(\"이강인\")\n",
    "btn=driver.find_element(By.CSS_SELECTOR,'btn_search')\n",
    "btn.click()\n",
    "#step6)소속팀 글자정보 수집 \n",
    "#개발자도구에서 요소 부분을 찾고, 우클릭, 요소 복사, 선택자 한번에 가져오되,\n",
    "#내가 선택한 요소 딱 하나만 반환한다\n",
    "#만약, 복수개를 수집하고 싶다면 nth-child나 id를 삭제한다. \n",
    "team=driver.find_element(By.CSS_SELECTOR,\"#main_pack > section.sc_new.cs_common_module.case_normal._au_people_content_wrap.color_16._cs_sports_people > div.cm_content_wrap._content > div.cm_content_area._cm_content_area_profile > div > div.detail_info > dl > div:nth-child(3) > dd > a\")\n",
    "team.text\n",
    "#stpe7)창을 종료\n",
    "driver.close()\n"
   ]
  },
  {
   "cell_type": "code",
   "execution_count": null,
   "id": "f51bf017",
   "metadata": {},
   "outputs": [],
   "source": []
  },
  {
   "cell_type": "markdown",
   "id": "df21d5ec",
   "metadata": {},
   "source": [
    "## 한솥도시락 웹브라우저에 접속 후 메뉴, 가격 정보 크롤링\n"
   ]
  },
  {
   "cell_type": "code",
   "execution_count": 1,
   "id": "38fd6220",
   "metadata": {
    "ExecuteTime": {
     "end_time": "2023-10-14T05:19:38.731493Z",
     "start_time": "2023-10-14T05:19:14.361885Z"
    }
   },
   "outputs": [
    {
     "name": "stdout",
     "output_type": "stream",
     "text": [
      "Requirement already satisfied: selenium in c:\\users\\gjaischool1\\anaconda3\\lib\\site-packages (4.14.0)\n",
      "Requirement already satisfied: trio-websocket~=0.9 in c:\\users\\gjaischool1\\anaconda3\\lib\\site-packages (from selenium) (0.11.1)\n",
      "Requirement already satisfied: urllib3[socks]<3,>=1.26 in c:\\users\\gjaischool1\\anaconda3\\lib\\site-packages (from selenium) (1.26.14)\n",
      "Requirement already satisfied: trio~=0.17 in c:\\users\\gjaischool1\\anaconda3\\lib\\site-packages (from selenium) (0.22.2)\n",
      "Requirement already satisfied: certifi>=2021.10.8 in c:\\users\\gjaischool1\\anaconda3\\lib\\site-packages (from selenium) (2023.5.7)\n",
      "Requirement already satisfied: outcome in c:\\users\\gjaischool1\\anaconda3\\lib\\site-packages (from trio~=0.17->selenium) (1.2.0)\n",
      "Requirement already satisfied: cffi>=1.14 in c:\\users\\gjaischool1\\anaconda3\\lib\\site-packages (from trio~=0.17->selenium) (1.15.1)\n",
      "Requirement already satisfied: exceptiongroup>=1.0.0rc9 in c:\\users\\gjaischool1\\anaconda3\\lib\\site-packages (from trio~=0.17->selenium) (1.1.3)\n",
      "Requirement already satisfied: attrs>=20.1.0 in c:\\users\\gjaischool1\\anaconda3\\lib\\site-packages (from trio~=0.17->selenium) (22.1.0)\n",
      "Requirement already satisfied: sortedcontainers in c:\\users\\gjaischool1\\anaconda3\\lib\\site-packages (from trio~=0.17->selenium) (2.4.0)\n",
      "Requirement already satisfied: sniffio in c:\\users\\gjaischool1\\anaconda3\\lib\\site-packages (from trio~=0.17->selenium) (1.2.0)\n",
      "Requirement already satisfied: idna in c:\\users\\gjaischool1\\anaconda3\\lib\\site-packages (from trio~=0.17->selenium) (3.4)\n",
      "Requirement already satisfied: wsproto>=0.14 in c:\\users\\gjaischool1\\anaconda3\\lib\\site-packages (from trio-websocket~=0.9->selenium) (1.2.0)\n",
      "Requirement already satisfied: PySocks!=1.5.7,<2.0,>=1.5.6 in c:\\users\\gjaischool1\\anaconda3\\lib\\site-packages (from urllib3[socks]<3,>=1.26->selenium) (1.7.1)\n",
      "Requirement already satisfied: pycparser in c:\\users\\gjaischool1\\anaconda3\\lib\\site-packages (from cffi>=1.14->trio~=0.17->selenium) (2.21)\n",
      "Requirement already satisfied: h11<1,>=0.9.0 in c:\\users\\gjaischool1\\anaconda3\\lib\\site-packages (from wsproto>=0.14->trio-websocket~=0.9->selenium) (0.14.0)\n",
      "Requirement already satisfied: selenium in c:\\users\\gjaischool1\\anaconda3\\lib\\site-packages (4.14.0)\n",
      "Requirement already satisfied: urllib3[socks]<3,>=1.26 in c:\\users\\gjaischool1\\anaconda3\\lib\\site-packages (from selenium) (1.26.14)\n",
      "Requirement already satisfied: trio~=0.17 in c:\\users\\gjaischool1\\anaconda3\\lib\\site-packages (from selenium) (0.22.2)\n",
      "Requirement already satisfied: certifi>=2021.10.8 in c:\\users\\gjaischool1\\anaconda3\\lib\\site-packages (from selenium) (2023.5.7)\n",
      "Requirement already satisfied: trio-websocket~=0.9 in c:\\users\\gjaischool1\\anaconda3\\lib\\site-packages (from selenium) (0.11.1)\n",
      "Requirement already satisfied: idna in c:\\users\\gjaischool1\\anaconda3\\lib\\site-packages (from trio~=0.17->selenium) (3.4)\n",
      "Requirement already satisfied: sniffio in c:\\users\\gjaischool1\\anaconda3\\lib\\site-packages (from trio~=0.17->selenium) (1.2.0)\n",
      "Requirement already satisfied: sortedcontainers in c:\\users\\gjaischool1\\anaconda3\\lib\\site-packages (from trio~=0.17->selenium) (2.4.0)\n",
      "Requirement already satisfied: outcome in c:\\users\\gjaischool1\\anaconda3\\lib\\site-packages (from trio~=0.17->selenium) (1.2.0)\n",
      "Requirement already satisfied: cffi>=1.14 in c:\\users\\gjaischool1\\anaconda3\\lib\\site-packages (from trio~=0.17->selenium) (1.15.1)\n",
      "Requirement already satisfied: exceptiongroup>=1.0.0rc9 in c:\\users\\gjaischool1\\anaconda3\\lib\\site-packages (from trio~=0.17->selenium) (1.1.3)\n",
      "Requirement already satisfied: attrs>=20.1.0 in c:\\users\\gjaischool1\\anaconda3\\lib\\site-packages (from trio~=0.17->selenium) (22.1.0)\n",
      "Requirement already satisfied: wsproto>=0.14 in c:\\users\\gjaischool1\\anaconda3\\lib\\site-packages (from trio-websocket~=0.9->selenium) (1.2.0)\n",
      "Requirement already satisfied: PySocks!=1.5.7,<2.0,>=1.5.6 in c:\\users\\gjaischool1\\anaconda3\\lib\\site-packages (from urllib3[socks]<3,>=1.26->selenium) (1.7.1)\n",
      "Requirement already satisfied: pycparser in c:\\users\\gjaischool1\\anaconda3\\lib\\site-packages (from cffi>=1.14->trio~=0.17->selenium) (2.21)\n",
      "Requirement already satisfied: h11<1,>=0.9.0 in c:\\users\\gjaischool1\\anaconda3\\lib\\site-packages (from wsproto>=0.14->trio-websocket~=0.9->selenium) (0.14.0)\n",
      "클릭 완료~\n"
     ]
    }
   ],
   "source": [
    "# !pip install selenium\n",
    "# !pip install -U selenium\n",
    "#step0)브라우저 키고, 컴퓨터용 키보드 조작하는 라이브러리 \n",
    "from selenium import webdriver as wb\n",
    "from selenium.webdriver.common.keys import Keys\n",
    "#선택자 구분자에 의해 크롤링할 수 있게 하는 라이브러리 \n",
    "from selenium.webdriver.common.by import By\n",
    "#컴퓨터가 하는 것이 발각되면 안되기에 쉬는 시간 추가하는 라이브러리 불러오기\n",
    "import time\n",
    "#step1)한솥페이지 열기\n",
    "driver=wb.Chrome()\n",
    "driver.get(\"https://www.hsd.co.kr/menu/menu_list\")\n",
    "time.sleep(1)\n",
    "#주의)아래 step2처럼 콘텐츠만 가져올 때 웹브라우저에서 '더보기'버튼을 눌러야 \n",
    "#전체 정보가 나올 수 있다\n",
    "\n",
    "try:\n",
    "    # 실행하고싶은 실행문장 작성\n",
    "    for i in range(30):\n",
    "        btn_more = driver.find_element(By.CLASS_NAME, 'c_05')\n",
    "        btn_more.click()\n",
    "        time.sleep(1) #1초\n",
    "except:\n",
    "    # 에러가 발생했을 경우 실행할 실행문장 작성~\n",
    "    print(\"클릭 완료~\")\n",
    "\n",
    "#step2) 메뉴정보와 가격정보를 리스트형태로 가져오기,\n",
    "#주의)nth 나 id가 있을 경우 지워야 여러 개의 리스트 형태 출력 가능하다! \n",
    "#오류search=driver.find_elements(By.CSS_SELECTOR,\"#menuList_508 > div > div.item-text > h4\")\n",
    "search=driver.find_elements(By.CSS_SELECTOR,'h4.h.fz_03')\n",
    "#구분자 By > CSS_SELECTOR로 사용할 때는 (태그명 선택자 구분자기호 구분자명) 작성 ! \n",
    "# driver.find_element(By.CLASS_NAME,'h.fz_03').text\n",
    "price=driver.find_elements(By.CSS_SELECTOR,\" div > div.item-text > div > strong\")\n",
    "\n",
    "#step3)콘텐츠만 출력하는 text이용해서 깔끔한 리스트로 만들어주기\n",
    "menu_list=[]\n",
    "price_list=[]\n",
    "for i in range(len(price)):\n",
    "    menu_list.append(search[i].text)\n",
    "    price_list.append(price[i].text)\n",
    "    \n",
    "#step4) 브라우저 종료\n",
    "driver.quit()\n",
    "\n",
    "#step5) 딕셔너리형태로 만든 후 데이터프레임화하기 \n",
    "import pandas as pd \n",
    "dic = {'메뉴':menu_list, '가격':price_list}\n",
    "data = pd.DataFrame(dic)\n",
    "\n",
    "#step6) 파일 내보내기 \n",
    "data.to_csv('data/한솥메뉴.csv')\n",
    "\n",
    "\n",
    "\n",
    "\n",
    "    \n"
   ]
  },
  {
   "cell_type": "markdown",
   "id": "c461b861",
   "metadata": {},
   "source": [
    "## 네이버에서 동명동맛집 검색 후 이미지 수집하기 "
   ]
  },
  {
   "cell_type": "code",
   "execution_count": 2,
   "id": "ea738221",
   "metadata": {
    "ExecuteTime": {
     "end_time": "2023-10-15T02:09:37.785799Z",
     "start_time": "2023-10-15T02:08:19.617410Z"
    }
   },
   "outputs": [
    {
     "name": "stdout",
     "output_type": "stream",
     "text": [
      "존재하는 이름의 폴더입니다.\n"
     ]
    }
   ],
   "source": [
    "# !pip install selenium\n",
    "# !pip install -U selenium\n",
    "#step0) 라이브러리 불러오기\n",
    "from selenium import webdriver as wb #브라우저 키고끄는\n",
    "from selenium.webdriver.common.keys import Keys #키 조작하는 \n",
    "from selenium.webdriver.common.by import By #선택자 구분자 \n",
    "import time #시간주는 \n",
    "import os # Opreating system 폴더 생성 \n",
    "from bs4 import BeautifulSoup as bs #html 형태로 객체화해주는 \n",
    "from urllib.request import urlretrieve # 웹상의 파일(이미지, html페이지 등)을 다운로드하는 \n",
    "\n",
    "#step1) os 라이브러리 폴더 생성 \n",
    "#바탕화면에서 아무 폴더에서 링크 복사해오고 뒤에 파일명 적기 \n",
    "if not os.path.isdir('C:\\\\Users\\\\gjaischool1\\\\Desktop\\\\동명동맛집'):\n",
    "    print('폴더생성')\n",
    "    os.mkdir('C:\\\\Users\\\\gjaischool1\\\\Desktop\\\\동명동맛집')\n",
    "else:\n",
    "    print('존재하는 이름의 폴더입니다.')\n",
    "#step2)네이버 메인페이지 열고, 전체창으로, '동명동맛집' 키 입력\n",
    "driver=wb.Chrome()\n",
    "driver.get('https://www.naver.com/')\n",
    "driver.maximize_window()\n",
    "search=driver.find_element(By.ID, 'query')\n",
    "search.send_keys('동명동맛집')\n",
    "search.send_keys(Keys.ENTER)\n",
    "#step3)이미지 탭 클릭 후 아래로 끝까지 스크롤\n",
    "driver.find_element(By.CSS_SELECTOR,'#lnb > div.lnb_group > div > div.lnb_nav_area._nav_area_root > div > div.api_flicking_wrap._conveyer_root > div:nth-child(2) > a').click()\n",
    "body = driver.find_element(By.CSS_SELECTOR,'body')\n",
    "for i in range(20):\n",
    "    body.send_keys(Keys.END)\n",
    "    time.sleep(2)\n",
    "time.sleep(10)\n",
    "#step4) 이미지 태그(그 속의 src 속성) 수집 후 이미지 파일로 저장 \n",
    "img=driver.find_elements(By.CSS_SELECTOR,'img._image._listImage')\n",
    "img_list=[]\n",
    "for i in img:\n",
    "    img_list.append(i.get_attribute('src'))\n",
    "\n",
    "# html로 객체화해서 src 가져올 수도 있다.\n",
    "# #bs(페이지정보, 파싱방법)\n",
    "# soup=bs(driver.page_source, 'lxml')\n",
    "# img=soup.select('img._image._listImage')\n",
    "# #반복문을 통해 각 이미지 태그에서 src 속성을 추출\n",
    "# img_list=[]\n",
    "# for i in img:\n",
    "#     img_list.append(i['src'])\n",
    "\n",
    "#step5) 이미지파일로 저장 \n",
    "for i in range(100):\n",
    "    urlretrieve(img_list[i],f'C:\\\\Users\\\\gjaischool1\\\\Desktop\\\\동명동맛집\\\\동명동맛집{i+1}.jpg')\n",
    "\n"
   ]
  },
  {
   "cell_type": "code",
   "execution_count": null,
   "id": "6fc761e4",
   "metadata": {},
   "outputs": [],
   "source": []
  },
  {
   "cell_type": "code",
   "execution_count": null,
   "id": "9b3c6612",
   "metadata": {},
   "outputs": [],
   "source": []
  },
  {
   "cell_type": "code",
   "execution_count": null,
   "id": "9e22087b",
   "metadata": {},
   "outputs": [],
   "source": []
  },
  {
   "cell_type": "code",
   "execution_count": null,
   "id": "50ba611b",
   "metadata": {},
   "outputs": [],
   "source": []
  }
 ],
 "metadata": {
  "kernelspec": {
   "display_name": "Python 3 (ipykernel)",
   "language": "python",
   "name": "python3"
  },
  "language_info": {
   "codemirror_mode": {
    "name": "ipython",
    "version": 3
   },
   "file_extension": ".py",
   "mimetype": "text/x-python",
   "name": "python",
   "nbconvert_exporter": "python",
   "pygments_lexer": "ipython3",
   "version": "3.10.9"
  },
  "toc": {
   "base_numbering": 1,
   "nav_menu": {},
   "number_sections": true,
   "sideBar": true,
   "skip_h1_title": false,
   "title_cell": "Table of Contents",
   "title_sidebar": "Contents",
   "toc_cell": false,
   "toc_position": {},
   "toc_section_display": true,
   "toc_window_display": false
  }
 },
 "nbformat": 4,
 "nbformat_minor": 5
}
